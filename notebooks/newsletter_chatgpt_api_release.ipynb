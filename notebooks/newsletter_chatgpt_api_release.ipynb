{
 "cells": [
  {
   "cell_type": "code",
   "execution_count": null,
   "id": "4fde5eae",
   "metadata": {},
   "outputs": [],
   "source": [
    "%load_ext autoreload\n",
    "%autoreload 2\n",
    "\n",
    "import sys\n",
    "sys.path.append(\"..\")\n",
    "\n",
    "import time\n",
    "import pymongo\n",
    "from datetime import datetime\n",
    "import pytz\n",
    "\n",
    "from telegram import InlineKeyboardButton, InlineKeyboardMarkup\n",
    "from telegram.ext import ApplicationBuilder\n",
    "from telegram.constants import ParseMode\n",
    "\n",
    "from bot import config\n",
    "from bot import database\n",
    "from bot.app import show_balance_handle"
   ]
  },
  {
   "cell_type": "code",
   "execution_count": null,
   "id": "1e4406c7",
   "metadata": {},
   "outputs": [],
   "source": [
    "application = (\n",
    "    ApplicationBuilder()\n",
    "    .token(config.telegram_token)\n",
    "    .build()\n",
    ")\n",
    "\n",
    "db = database.Database()"
   ]
  },
  {
   "cell_type": "code",
   "execution_count": null,
   "id": "09464d20",
   "metadata": {},
   "outputs": [],
   "source": [
    "newsletter_id = \"chatgpt_api_release\"\n",
    "\n",
    "db.create_newsletter(newsletter_id)\n",
    "already_sent_to_user_ids = set(db.get_newsletter_attribute(newsletter_id, \"already_sent_to_user_ids\"))\n",
    "\n",
    "print(f\"Already sent to users: {already_sent_to_user_ids}\")"
   ]
  },
  {
   "cell_type": "code",
   "execution_count": null,
   "id": "0c03345d",
   "metadata": {},
   "outputs": [],
   "source": [
    "# user_dicts = list(db.user_collection.find({\"username\": \"karfly\"}))\n",
    "user_dicts = list(db.user_collection.find({}))\n",
    "print(f\"Found {len(user_dicts)} users\")"
   ]
  },
  {
   "cell_type": "code",
   "execution_count": null,
   "id": "17a40c58",
   "metadata": {},
   "outputs": [],
   "source": [
    "for user_dict in user_dicts:        \n",
    "    if user_dict[\"_id\"] in already_sent_to_user_ids:\n",
    "        print(f\"Skipping {user_dict['_id']}. Already sent before\")\n",
    "        continue\n",
    "    \n",
    "    text = \"❤️‍🔥 Big update!\\n\"\n",
    "    text += \"Now bot answers <b>faster</b> and the <b>quality</b> of responses should be higher (we switched to fresh <a href=\\\"https://openai.com/blog/introducing-chatgpt-and-whisper-apis\\\">ChatGPT API</a>).\\n\\n\"\n",
    "        \n",
    "    text += \"Your <b>feedback</b> about the speed and quality of the bot will be helpful. Write to me: 💌 \"\n",
    "    \n",
    "    try:\n",
    "        await application.bot.send_message(\n",
    "            user_dict['chat_id'],\n",
    "            text,\n",
    "            disable_web_page_preview=True,\n",
    "            parse_mode=ParseMode.HTML\n",
    "        )\n",
    "        print(f\"Successfully sent to {user_dict['_id']}\")\n",
    "              \n",
    "        db.add_user_to_newsletter(newsletter_id, user_dict[\"_id\"])\n",
    "        \n",
    "        time.sleep(7.2)\n",
    "    except Exception as e:\n",
    "        print(f\"Failed to send message to {user_dict['_id']}. Reason: {e}\")"
   ]
  }
 ],
 "metadata": {
  "kernelspec": {
   "display_name": "Python 3 (ipykernel)",
   "language": "python",
   "name": "python3"
  },
  "language_info": {
   "codemirror_mode": {
    "name": "ipython",
    "version": 3
   },
   "file_extension": ".py",
   "mimetype": "text/x-python",
   "name": "python",
   "nbconvert_exporter": "python",
   "pygments_lexer": "ipython3",
   "version": "3.8.16"
  }
 },
 "nbformat": 4,
 "nbformat_minor": 5
}
