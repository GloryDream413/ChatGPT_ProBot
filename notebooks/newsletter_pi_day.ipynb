{
 "cells": [
  {
   "cell_type": "code",
   "execution_count": null,
   "id": "4fde5eae",
   "metadata": {},
   "outputs": [],
   "source": [
    "%load_ext autoreload\n",
    "%autoreload 2\n",
    "\n",
    "import sys\n",
    "sys.path.append(\"..\")\n",
    "\n",
    "import time\n",
    "import pymongo\n",
    "from datetime import datetime\n",
    "import pytz\n",
    "\n",
    "from telegram import InlineKeyboardButton, InlineKeyboardMarkup\n",
    "from telegram.ext import ApplicationBuilder\n",
    "from telegram.constants import ParseMode\n",
    "\n",
    "from bot import config\n",
    "from bot import database\n",
    "from bot.app import show_balance_handle"
   ]
  },
  {
   "cell_type": "code",
   "execution_count": null,
   "id": "1e4406c7",
   "metadata": {},
   "outputs": [],
   "source": [
    "application = (\n",
    "    ApplicationBuilder()\n",
    "    .token(config.telegram_token)\n",
    "    .build()\n",
    ")\n",
    "\n",
    "db = database.Database()"
   ]
  },
  {
   "cell_type": "code",
   "execution_count": null,
   "id": "09464d20",
   "metadata": {},
   "outputs": [],
   "source": [
    "newsletter_id = \"day_pi\"\n",
    "\n",
    "db.create_newsletter(newsletter_id)\n",
    "already_sent_to_user_ids = set(db.get_newsletter_attribute(newsletter_id, \"already_sent_to_user_ids\"))\n",
    "\n",
    "print(f\"Already sent to {len(already_sent_to_user_ids)} users\")"
   ]
  },
  {
   "cell_type": "code",
   "execution_count": null,
   "id": "0c03345d",
   "metadata": {},
   "outputs": [],
   "source": [
    "user_dicts = list(db.user_collection.find({\"username\": \"karfly\"}))\n",
    "# user_dicts = list(db.user_collection.find({}))\n",
    "print(f\"Found {len(user_dicts)} users\")"
   ]
  },
  {
   "cell_type": "code",
   "execution_count": null,
   "id": "17a40c58",
   "metadata": {},
   "outputs": [],
   "source": [
    "for user_dict in user_dicts:        \n",
    "    if user_dict[\"_id\"] in already_sent_to_user_ids:\n",
    "        print(f\"Skipping {user_dict['_id']}. Already sent before\")\n",
    "        continue\n",
    "        \n",
    "    text = \"🥧 Happy <b>pi</b> day!\\n\\n\"\n",
    "    text += \"Only today you can buy <b>3,141,592</b> tokens for <s>75$</s> <b>29.99$</b> (60% discount 😱)\"\n",
    "    \n",
    "    reply_markup = InlineKeyboardMarkup([\n",
    "        [InlineKeyboardButton(\"🟣 Buy 3,141,592 tokens\", callback_data=f\"send_payment||29.99|3141592\")],\n",
    "    ])\n",
    "\n",
    "    try:        \n",
    "        await application.bot.send_animation(\n",
    "            user_dict['chat_id'],\n",
    "            \"./static/pi_day.mp4\",\n",
    "            caption=text,\n",
    "            parse_mode=ParseMode.HTML,\n",
    "            reply_markup=reply_markup\n",
    "            \n",
    "        )\n",
    "        print(f\"Successfully sent to {user_dict['_id']}\")\n",
    "        db.add_user_to_newsletter(newsletter_id, user_dict[\"_id\"])\n",
    "        \n",
    "        time.sleep(7)\n",
    "    except Exception as e:\n",
    "        print(f\"Failed to send message to {user_dict['_id']}. Reason: {e}\")"
   ]
  },
  {
   "cell_type": "code",
   "execution_count": null,
   "id": "0444b62d",
   "metadata": {},
   "outputs": [],
   "source": []
  },
  {
   "cell_type": "code",
   "execution_count": null,
   "id": "97470531",
   "metadata": {},
   "outputs": [],
   "source": [
    "D"
   ]
  }
 ],
 "metadata": {
  "kernelspec": {
   "display_name": "Python 3 (ipykernel)",
   "language": "python",
   "name": "python3"
  },
  "language_info": {
   "codemirror_mode": {
    "name": "ipython",
    "version": 3
   },
   "file_extension": ".py",
   "mimetype": "text/x-python",
   "name": "python",
   "nbconvert_exporter": "python",
   "pygments_lexer": "ipython3",
   "version": "3.8.16"
  }
 },
 "nbformat": 4,
 "nbformat_minor": 5
}
