{
 "cells": [
  {
   "cell_type": "code",
   "execution_count": null,
   "id": "65819b0d",
   "metadata": {},
   "outputs": [],
   "source": [
    "%load_ext autoreload\n",
    "%autoreload 2\n",
    "\n",
    "import sys\n",
    "sys.path.append(\"..\")\n",
    "\n",
    "from collections import defaultdict\n",
    "from datetime import datetime\n",
    "import pymongo\n",
    "import pytz\n",
    "\n",
    "import pandas as pd\n",
    "from matplotlib import pylab as plt\n",
    "import seaborn as sns\n",
    "\n",
    "from bot import config\n",
    "from bot import database\n",
    "import numpy as np"
   ]
  },
  {
   "cell_type": "code",
   "execution_count": null,
   "id": "ed48b96f",
   "metadata": {},
   "outputs": [],
   "source": [
    "db = database.Database()"
   ]
  },
  {
   "cell_type": "code",
   "execution_count": null,
   "id": "9ddb85d6",
   "metadata": {},
   "outputs": [],
   "source": [
    "def change_tz_to_msk(d):\n",
    "    return d.astimezone(pytz.timezone(\"Europe/Moscow\"))\n",
    "\n",
    "\n",
    "def user_to_str(user_dict):\n",
    "    text = \"\"\n",
    "    text += f\"{user_dict['_id']}:\\n\"\n",
    "    for k in [\"username\", \"first_name\", \"last_name\", \"last_interaction\", \"first_seen\", \"current_chat_mode\", \"n_used_tokens\", \"token_balance\"]:\n",
    "        if k in user_dict:\n",
    "            v = user_dict[k]\n",
    "            if isinstance(v, datetime):\n",
    "                v = change_tz_to_msk(v)\n",
    "                v = v.strftime('%H:%M:%S %d-%m-%Y')\n",
    "            text += f\"  - {k}: {v}\\n\"\n",
    "\n",
    "    return text\n",
    "\n",
    "\n",
    "def dialog_to_str(dialog_dict):\n",
    "    text = \"\"\n",
    "    \n",
    "    user_id = dialog_dict[\"user_id\"]\n",
    "    user_dict = db.user_collection.find_one({\"_id\": user_id})\n",
    "    \n",
    "    text += user_to_str(user_dict)\n",
    "    text += \"\\n\"\n",
    "    \n",
    "    text += f\"Chat mode: {dialog_dict['chat_mode']}\\n\\n\"\n",
    "    text += \"Messages:\\n\"\n",
    "    for message in dialog_dict[\"messages\"]:\n",
    "        text += f\"U: {message['user']}\\n\"\n",
    "        text += f\"B: {message['bot']}\\n\"\n",
    "        text += \"\\n\"\n",
    "        \n",
    "    return text\n",
    "\n",
    "\n",
    "def payment_to_str(payment_dict):\n",
    "    text = \"\"\n",
    "    \n",
    "    text += f\"Status: {payment_dict['status']}\\n\"\n",
    "    date = change_tz_to_msk(payment_dict[\"created_at\"])\n",
    "    text += f\"Date: {date}\\n\"\n",
    "    text += f\"Amount: {payment_dict['amount']}\\n\\n\"\n",
    "    \n",
    "    user_id = payment_dict[\"user_id\"]\n",
    "    user_dict = db.user_collection.find_one({\"_id\": user_id})\n",
    "    \n",
    "    text += user_to_str(user_dict)\n",
    "    text += \"\\n\"\n",
    "    \n",
    "    return text"
   ]
  },
  {
   "cell_type": "markdown",
   "id": "6c6998f8",
   "metadata": {},
   "source": [
    "### N total users"
   ]
  },
  {
   "cell_type": "code",
   "execution_count": null,
   "id": "6f54405e",
   "metadata": {},
   "outputs": [],
   "source": [
    "n_users = db.user_collection.count_documents({})\n",
    "print(f\"N total users: {n_users}\")"
   ]
  },
  {
   "cell_type": "markdown",
   "id": "ed7aab98",
   "metadata": {},
   "source": [
    "### Install graph"
   ]
  },
  {
   "cell_type": "code",
   "execution_count": null,
   "id": "1e3b4741",
   "metadata": {},
   "outputs": [],
   "source": [
    "query = db.user_collection.find({})\n",
    "\n",
    "date_to_n_installs = defaultdict(int)\n",
    "for user_dict in list(query):\n",
    "    date_to_n_installs[user_dict[\"first_seen\"].date()] += 1\n",
    "\n",
    "date_to_n_installs_tuples = list(date_to_n_installs.items())\n",
    "date_to_n_installs_tuples = sorted(date_to_n_installs_tuples, key=lambda x: x[0])\n",
    "\n",
    "df = pd.DataFrame(data={\n",
    "    \"dates\": [x[0] for x in date_to_n_installs_tuples],\n",
    "    \"installs\": [x[1] for x in date_to_n_installs_tuples]\n",
    "})\n",
    "\n",
    "fig, ax = plt.subplots(1, 1, figsize=(15, 5))\n",
    "sns.barplot(x='dates', y='installs', data=df, color=\"steelblue\")\n",
    "\n",
    "xticks = ax.get_xticks()\n",
    "xticklabels = [x.get_text() for x in ax.get_xticklabels()]\n",
    "_ = ax.set_xticks(xticks, xticklabels, rotation=90)"
   ]
  },
  {
   "cell_type": "markdown",
   "id": "42e090c1",
   "metadata": {},
   "source": [
    "### Install graph (cumsum)"
   ]
  },
  {
   "cell_type": "code",
   "execution_count": null,
   "id": "86f2dffc",
   "metadata": {},
   "outputs": [],
   "source": [
    "query = db.user_collection.find({})\n",
    "\n",
    "date_to_n_installs = defaultdict(int)\n",
    "for user_dict in list(query):\n",
    "    date_to_n_installs[user_dict[\"first_seen\"].date()] += 1\n",
    "\n",
    "date_to_n_installs_tuples = list(date_to_n_installs.items())\n",
    "date_to_n_installs_tuples = sorted(date_to_n_installs_tuples, key=lambda x: x[0])\n",
    "\n",
    "df = pd.DataFrame(data={\n",
    "    \"dates\": [x[0] for x in date_to_n_installs_tuples],\n",
    "    \"installs\": np.cumsum([x[1] for x in date_to_n_installs_tuples])\n",
    "})\n",
    "\n",
    "fig, ax = plt.subplots(1, 1, figsize=(15, 5))\n",
    "sns.barplot(x='dates', y='installs', data=df, color=\"steelblue\")\n",
    "\n",
    "xticks = ax.get_xticks()\n",
    "xticklabels = [x.get_text() for x in ax.get_xticklabels()]\n",
    "_ = ax.set_xticks(xticks, xticklabels, rotation=90)"
   ]
  },
  {
   "cell_type": "markdown",
   "id": "962e3e33",
   "metadata": {},
   "source": [
    "### N total messages from users"
   ]
  },
  {
   "cell_type": "code",
   "execution_count": null,
   "id": "c1b336cd",
   "metadata": {},
   "outputs": [],
   "source": [
    "query = db.dialog_collection.find({})\n",
    "\n",
    "n_total_messages_from_users = 0\n",
    "for dialog_dict in query:\n",
    "    n_total_messages_from_users += len([1 for messages in dialog_dict[\"messages\"]])\n",
    "    \n",
    "print(f\"N total messages from users: {n_total_messages_from_users}\")"
   ]
  },
  {
   "cell_type": "markdown",
   "id": "05dd0f97",
   "metadata": {},
   "source": [
    "### Message graph"
   ]
  },
  {
   "cell_type": "code",
   "execution_count": null,
   "id": "d89cd5de",
   "metadata": {},
   "outputs": [],
   "source": [
    "query = db.dialog_collection.find({})\n",
    "\n",
    "date_to_n_messages = defaultdict(int)\n",
    "for dialog_dict in query:\n",
    "    for message in dialog_dict[\"messages\"]:\n",
    "        date_to_n_messages[message[\"date\"].date()] += 1"
   ]
  },
  {
   "cell_type": "code",
   "execution_count": null,
   "id": "ab6513d5",
   "metadata": {},
   "outputs": [],
   "source": [
    "date_to_n_messages_tuples = list(date_to_n_messages.items())\n",
    "date_to_n_messages_tuples = sorted(date_to_n_messages_tuples, key=lambda x: x[0])\n",
    "\n",
    "df = pd.DataFrame(data={\n",
    "    \"dates\": [x[0] for x in date_to_n_messages_tuples],\n",
    "    \"messages\": [x[1] for x in date_to_n_messages_tuples],\n",
    "})\n",
    "\n",
    "fig, ax = plt.subplots(1, 1, figsize=(15, 5))\n",
    "sns.barplot(x='dates', y='messages', data=df, color=\"steelblue\")\n",
    "\n",
    "xticks = ax.get_xticks()\n",
    "xticklabels = [x.get_text() for x in ax.get_xticklabels()]\n",
    "_ = ax.set_xticks(xticks, xticklabels, rotation=90)"
   ]
  },
  {
   "cell_type": "markdown",
   "id": "fbd1967a",
   "metadata": {},
   "source": [
    "### Money graph"
   ]
  },
  {
   "cell_type": "code",
   "execution_count": null,
   "id": "4863b1d5",
   "metadata": {},
   "outputs": [],
   "source": [
    "query = db.payment_collection.find({\"status\": \"paid\"})\n",
    "\n",
    "date_to_money = defaultdict(int)\n",
    "for payment_dict in list(query):\n",
    "    amount = payment_dict[\"amount\"]\n",
    "    if payment_dict[\"currency\"] == \"RUB\":\n",
    "        amount /= 77\n",
    "        \n",
    "    date_to_money[payment_dict[\"created_at\"].date()] += amount\n",
    "\n",
    "date_to_money_tuples = list(date_to_money.items())\n",
    "date_to_money_tuples = sorted(date_to_money_tuples, key=lambda x: x[0])\n",
    "\n",
    "df = pd.DataFrame(data={\n",
    "    \"dates\": [x[0] for x in date_to_money_tuples],\n",
    "    \"money\": [x[1] for x in date_to_money_tuples]\n",
    "})\n",
    "\n",
    "fig, ax = plt.subplots(1, 1, figsize=(15, 5))\n",
    "sns.barplot(x='dates', y='money', data=df, color=\"steelblue\")\n",
    "\n",
    "xticks = ax.get_xticks()\n",
    "xticklabels = [x.get_text() for x in ax.get_xticklabels()]\n",
    "_ = ax.set_xticks(xticks, xticklabels, rotation=90)\n",
    "\n",
    "print(f\"Total money: {sum(date_to_money.values())}\")"
   ]
  },
  {
   "cell_type": "markdown",
   "id": "2b217224",
   "metadata": {},
   "source": [
    "### Last registered users"
   ]
  },
  {
   "cell_type": "code",
   "execution_count": null,
   "id": "4559b6b8",
   "metadata": {},
   "outputs": [],
   "source": [
    "print(f\"5 last registered users:\\n\")\n",
    "\n",
    "query = db.user_collection.find().sort('first_seen', -1).limit(5)\n",
    "for user_dict in query:\n",
    "    print(user_to_str(user_dict))\n",
    "    print(\"_\" * 50, \"\\n\")"
   ]
  },
  {
   "cell_type": "markdown",
   "id": "bf66002a",
   "metadata": {},
   "source": [
    "### Last successful payments"
   ]
  },
  {
   "cell_type": "code",
   "execution_count": null,
   "id": "b895eb98",
   "metadata": {},
   "outputs": [],
   "source": [
    "print(f\"Last successful payments:\\n\")\n",
    "\n",
    "query = db.payment_collection.find({\"status\": \"paid\"}).sort(\"created_at\", -1).limit(5)\n",
    "for payment_dict in query:\n",
    "    print(payment_to_str(payment_dict))\n",
    "    print(\"_\" * 50, \"\\n\")"
   ]
  },
  {
   "cell_type": "markdown",
   "id": "de857a2d",
   "metadata": {},
   "source": [
    "### Last created payments"
   ]
  },
  {
   "cell_type": "code",
   "execution_count": null,
   "id": "21ec8237",
   "metadata": {},
   "outputs": [],
   "source": [
    "print(f\"Last created payments:\\n\")\n",
    "\n",
    "query = db.payment_collection.find({}).sort(\"created_at\", -1).limit(5)\n",
    "for payment_dict in query:\n",
    "    print(payment_to_str(payment_dict))\n",
    "    print(\"_\" * 50, \"\\n\")"
   ]
  },
  {
   "cell_type": "markdown",
   "id": "b519ca87",
   "metadata": {},
   "source": [
    "### Last dialogs"
   ]
  },
  {
   "cell_type": "code",
   "execution_count": null,
   "id": "18067535",
   "metadata": {
    "scrolled": false
   },
   "outputs": [],
   "source": [
    "query = db.dialog_collection.find({\"messages\": {\"$ne\": []}}).sort('start_time', -1).limit(30)\n",
    "for dialog_dict in query:\n",
    "    print(dialog_to_str(dialog_dict))\n",
    "    print(\"_\" * 50, \"\\n\")"
   ]
  }
 ],
 "metadata": {
  "kernelspec": {
   "display_name": "Python 3 (ipykernel)",
   "language": "python",
   "name": "python3"
  },
  "language_info": {
   "codemirror_mode": {
    "name": "ipython",
    "version": 3
   },
   "file_extension": ".py",
   "mimetype": "text/x-python",
   "name": "python",
   "nbconvert_exporter": "python",
   "pygments_lexer": "ipython3",
   "version": "3.8.16"
  }
 },
 "nbformat": 4,
 "nbformat_minor": 5
}
