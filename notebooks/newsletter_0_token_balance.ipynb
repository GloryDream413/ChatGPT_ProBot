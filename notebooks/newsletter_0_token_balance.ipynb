{
 "cells": [
  {
   "cell_type": "code",
   "execution_count": null,
   "id": "4fde5eae",
   "metadata": {},
   "outputs": [],
   "source": [
    "%load_ext autoreload\n",
    "%autoreload 2\n",
    "\n",
    "import sys\n",
    "sys.path.append(\"..\")\n",
    "\n",
    "import pymongo\n",
    "from datetime import datetime\n",
    "import pytz\n",
    "\n",
    "from telegram import InlineKeyboardButton, InlineKeyboardMarkup\n",
    "from telegram.ext import ApplicationBuilder\n",
    "from telegram.constants import ParseMode\n",
    "\n",
    "from bot import config\n",
    "from bot import database\n",
    "from bot.app import show_balance_handle"
   ]
  },
  {
   "cell_type": "code",
   "execution_count": null,
   "id": "1e4406c7",
   "metadata": {},
   "outputs": [],
   "source": [
    "application = (\n",
    "    ApplicationBuilder()\n",
    "    .token(config.telegram_token)\n",
    "    .build()\n",
    ")\n",
    "\n",
    "db = database.Database()"
   ]
  },
  {
   "cell_type": "code",
   "execution_count": null,
   "id": "09464d20",
   "metadata": {},
   "outputs": [],
   "source": [
    "newsletter_id = \"token_balance_0\"\n",
    "\n",
    "db.create_newsletter(newsletter_id)\n",
    "already_sent_to_user_ids = set(db.get_newsletter_attribute(newsletter_id, \"already_sent_to_user_ids\"))\n",
    "\n",
    "print(f\"Already sent to users: {already_sent_to_user_ids}\")"
   ]
  },
  {
   "cell_type": "code",
   "execution_count": null,
   "id": "0c03345d",
   "metadata": {},
   "outputs": [],
   "source": [
    "user_dicts = list(db.user_collection.find({\"token_balance\": 0}))\n",
    "print(f\"Found {len(user_dicts)} users\")"
   ]
  },
  {
   "cell_type": "code",
   "execution_count": null,
   "id": "17a40c58",
   "metadata": {},
   "outputs": [],
   "source": [
    "for user_dict in user_dicts:\n",
    "    if user_dict[\"token_balance\"] > 0:\n",
    "        print(f\"Skipping {user_dict['_id']}. Token balance > 0\")\n",
    "        continue\n",
    "        \n",
    "    if user_dict[\"_id\"] in already_sent_to_user_ids:\n",
    "        print(f\"Skipping {user_dict['_id']}. Already sent before\")\n",
    "        continue\n",
    "    \n",
    "    text = f\"🔴 You have <b>NO</b> tokens left\\n\"\n",
    "    text += f\"You totally spent <b>{user_dict['n_used_tokens']}</b> tokens\\n\"\n",
    "\n",
    "    text += f\"\\nTop up your balance with <b>crypto</b> by choosing an option below. If crypto is not your thing, write me  and we will figure something out.\"\n",
    "    reply_markup = InlineKeyboardMarkup([\n",
    "        [InlineKeyboardButton(\"🟣 +100K tokens – 2.99$\", callback_data=f\"send_payment|2.99|100000\")],\n",
    "        [InlineKeyboardButton(\"🟣 +500K tokens – 9.99$\", callback_data=f\"send_payment|9.99|500000\")],\n",
    "        [InlineKeyboardButton(\"🟣 +1M tokens – 16.99$\", callback_data=f\"send_payment|16.99|1000000\")]\n",
    "    ])\n",
    "    \n",
    "    try:\n",
    "        await application.bot.send_message(\n",
    "            user_dict['chat_id'],\n",
    "            text,\n",
    "            reply_markup=reply_markup,\n",
    "            parse_mode=ParseMode.HTML\n",
    "        )\n",
    "        print(f\"Successfully sent to {user_dict['_id']}\")\n",
    "              \n",
    "        db.add_user_to_newsletter(newsletter_id, user_dict[\"_id\"])\n",
    "    except Exception as e:\n",
    "        print(f\"Failed to send message to {user_dict['_id']}. Reason: {e}\")"
   ]
  }
 ],
 "metadata": {
  "kernelspec": {
   "display_name": "Python 3 (ipykernel)",
   "language": "python",
   "name": "python3"
  },
  "language_info": {
   "codemirror_mode": {
    "name": "ipython",
    "version": 3
   },
   "file_extension": ".py",
   "mimetype": "text/x-python",
   "name": "python",
   "nbconvert_exporter": "python",
   "pygments_lexer": "ipython3",
   "version": "3.8.15"
  }
 },
 "nbformat": 4,
 "nbformat_minor": 5
}
